{
 "cells": [
  {
   "cell_type": "code",
   "execution_count": 1,
   "id": "developmental-edwards",
   "metadata": {},
   "outputs": [],
   "source": [
    "import tweepy"
   ]
  },
  {
   "cell_type": "code",
   "execution_count": 17,
   "id": "alone-mathematics",
   "metadata": {},
   "outputs": [],
   "source": [
    "auth = tweepy.OAuthHandler(\"ndhnB7t0ER7cq4tw6y2lA\", \"4Jp280Q3B67MoeocX2ly47s33Lqk8DjUn7DFSO1s\")\n",
    "auth.set_access_token(\"21300973-vEjQMp9yC2o1PHD5Av7URyYP8iRtdofiPprNY3oWP\", \"drWQ9Ge4G59sZaGeFw3sFNv20328ifPwiR8eq1bO0XwKL\")"
   ]
  },
  {
   "cell_type": "code",
   "execution_count": 18,
   "id": "sensitive-graham",
   "metadata": {},
   "outputs": [],
   "source": [
    "api = tweepy.API(auth)"
   ]
  },
  {
   "cell_type": "code",
   "execution_count": 20,
   "id": "sound-circulation",
   "metadata": {},
   "outputs": [
    {
     "name": "stdout",
     "output_type": "stream",
     "text": [
      "@ZubyMusic I’m not naturally fearful of it. But my wife’s bro died aged 55 no underlying. A friend lost his mum (62) and uncle (60) in the same week ... again slim &amp; healthy other than slightly raised BP. I personally know of nasty long covid cases of ppl c40 yo. Russian roulette?\n"
     ]
    }
   ],
   "source": [
    "tweet = api.get_status(1377422686398279680, tweet_mode=\"extended\")\n",
    "print(tweet.full_text)"
   ]
  },
  {
   "cell_type": "code",
   "execution_count": 46,
   "id": "assumed-prison",
   "metadata": {},
   "outputs": [],
   "source": [
    "results = tweepy.Cursor(api.search, q=\"%22long covid%22\", count=100, lang='en', tweet_mode=\"extended\", until=\"2021-03-25\")"
   ]
  },
  {
   "cell_type": "code",
   "execution_count": 47,
   "id": "accessory-outside",
   "metadata": {},
   "outputs": [
    {
     "name": "stdout",
     "output_type": "stream",
     "text": [
      "RT @aetiology: While some factions are apparently trying to deny long COVID is a thing, this article discusses recent research on patients…\n",
      "\n",
      "RT @5_News: New studies into Long Covid reveal that middle-aged women are most likely to suffer badly, with effects such as fatigue and mus…\n",
      "\n",
      "RT @FinancialTimes: Most patients treated in hospital for Covid-19 are still suffering a wide range of symptoms five months after discharge…\n",
      "\n",
      "RT @aetiology: While some factions are apparently trying to deny long COVID is a thing, this article discusses recent research on patients…\n",
      "\n",
      "RT @FatEmperor: Long Bollocks  https://t.co/n9FTzEMAMe\n",
      "\n",
      "RT @joemichalczuk: Fed up with all these Lockdown lovers coming up with reasons for why it all should continue now we have a vaccine: “Euro…\n",
      "\n",
      "RT @5_News: \"My GP has been sympathetic, but doesn't know how to help me\"\n",
      "\n",
      "While #LivingWithLongCovid, Claire Hastie was determined to do s…\n",
      "\n",
      "RT @5_News: \"Having Long Covid feels like an indefinite lockdown... I worry people like me will be forgotten about.\"\n",
      "\n",
      "Our colleague @Ruth5N…\n",
      "\n",
      "RT @RevJoeHaward: My latest article @BylineTimes trying to help raise #MEawareness for #pwME and the #MECFS community, and #LongCovid commu…\n",
      "\n",
      "RT @aetiology: While some factions are apparently trying to deny long COVID is a thing, this article discusses recent research on patients…\n",
      "\n",
      "RT @ReicherStephen: COVID is not just a matter of life and death.\n",
      "70% suffer from long COVID.\n",
      "20% suffer so badly they can't return to work…\n",
      "\n",
      "Long COVID: 70% of patients still suffer debilitating symptoms five months later, study finds\n",
      "https://t.co/wfWyOfPtCq #Datum https://t.co/MLrZfsIJtW\n",
      "\n",
      "RT @5_News: \"Having Long Covid feels like an indefinite lockdown... I worry people like me will be forgotten about.\"\n",
      "\n",
      "Our colleague @Ruth5N…\n",
      "\n",
      "RT @SkyNews: Seven in 10 people taken to hospital with #COVID19 have not fully recovered after five months, new research suggests https://t…\n",
      "\n",
      "RT @jengleruk: When deaths weren't scaring everybody enough it was hospitalisations.\n",
      "\n",
      "Then as hospitals emptied out it was cases\n",
      "\n",
      "Then asym…\n",
      "\n",
      "RT @baroquepony: @Miss_Allison_D @UN_Enable Has similar happen. They are ignorant as in lacking knowledge. If/ when they get ill/ injured/l…\n",
      "\n",
      "RT @SkyNews: Seven in 10 people taken to hospital with #COVID19 have not fully recovered after five months, new research suggests https://t…\n",
      "\n",
      "RT @5_News: \"Having Long Covid feels like an indefinite lockdown... I worry people like me will be forgotten about.\"\n",
      "\n",
      "Our colleague @Ruth5N…\n",
      "\n",
      "RT @Jackiedoran10: Has our mehole and msm got the long covid😂 ya know when the oul memory changes✌✌👇👇👇👇👇\n",
      "\n",
      "https://t.co/811lNDxufH\n"
     ]
    },
    {
     "ename": "KeyboardInterrupt",
     "evalue": "Interrupted by user",
     "output_type": "error",
     "traceback": [
      "\u001b[0;31m---------------------------------------------------------------------------\u001b[0m",
      "\u001b[0;31mKeyboardInterrupt\u001b[0m                         Traceback (most recent call last)",
      "\u001b[0;32m<ipython-input-47-f264838605d2>\u001b[0m in \u001b[0;36m<module>\u001b[0;34m\u001b[0m\n\u001b[1;32m      1\u001b[0m \u001b[0;32mfor\u001b[0m \u001b[0mr\u001b[0m \u001b[0;32min\u001b[0m \u001b[0mresults\u001b[0m\u001b[0;34m.\u001b[0m\u001b[0mitems\u001b[0m\u001b[0;34m(\u001b[0m\u001b[0;34m)\u001b[0m\u001b[0;34m:\u001b[0m\u001b[0;34m\u001b[0m\u001b[0;34m\u001b[0m\u001b[0m\n\u001b[1;32m      2\u001b[0m     \u001b[0mprint\u001b[0m\u001b[0;34m(\u001b[0m\u001b[0mr\u001b[0m\u001b[0;34m.\u001b[0m\u001b[0mfull_text\u001b[0m\u001b[0;34m)\u001b[0m\u001b[0;34m\u001b[0m\u001b[0;34m\u001b[0m\u001b[0m\n\u001b[0;32m----> 3\u001b[0;31m     \u001b[0minput\u001b[0m\u001b[0;34m(\u001b[0m\u001b[0;34m)\u001b[0m\u001b[0;34m\u001b[0m\u001b[0;34m\u001b[0m\u001b[0m\n\u001b[0m",
      "\u001b[0;32m~/.local/share/virtualenvs/twitter-gYID8_Vh/lib/python3.8/site-packages/ipykernel/kernelbase.py\u001b[0m in \u001b[0;36mraw_input\u001b[0;34m(self, prompt)\u001b[0m\n\u001b[1;32m    846\u001b[0m                 \u001b[0;34m\"raw_input was called, but this frontend does not support input requests.\"\u001b[0m\u001b[0;34m\u001b[0m\u001b[0;34m\u001b[0m\u001b[0m\n\u001b[1;32m    847\u001b[0m             )\n\u001b[0;32m--> 848\u001b[0;31m         return self._input_request(str(prompt),\n\u001b[0m\u001b[1;32m    849\u001b[0m             \u001b[0mself\u001b[0m\u001b[0;34m.\u001b[0m\u001b[0m_parent_ident\u001b[0m\u001b[0;34m,\u001b[0m\u001b[0;34m\u001b[0m\u001b[0;34m\u001b[0m\u001b[0m\n\u001b[1;32m    850\u001b[0m             \u001b[0mself\u001b[0m\u001b[0;34m.\u001b[0m\u001b[0m_parent_header\u001b[0m\u001b[0;34m,\u001b[0m\u001b[0;34m\u001b[0m\u001b[0;34m\u001b[0m\u001b[0m\n",
      "\u001b[0;32m~/.local/share/virtualenvs/twitter-gYID8_Vh/lib/python3.8/site-packages/ipykernel/kernelbase.py\u001b[0m in \u001b[0;36m_input_request\u001b[0;34m(self, prompt, ident, parent, password)\u001b[0m\n\u001b[1;32m    890\u001b[0m             \u001b[0;32mexcept\u001b[0m \u001b[0mKeyboardInterrupt\u001b[0m\u001b[0;34m:\u001b[0m\u001b[0;34m\u001b[0m\u001b[0;34m\u001b[0m\u001b[0m\n\u001b[1;32m    891\u001b[0m                 \u001b[0;31m# re-raise KeyboardInterrupt, to truncate traceback\u001b[0m\u001b[0;34m\u001b[0m\u001b[0;34m\u001b[0m\u001b[0;34m\u001b[0m\u001b[0m\n\u001b[0;32m--> 892\u001b[0;31m                 \u001b[0;32mraise\u001b[0m \u001b[0mKeyboardInterrupt\u001b[0m\u001b[0;34m(\u001b[0m\u001b[0;34m\"Interrupted by user\"\u001b[0m\u001b[0;34m)\u001b[0m \u001b[0;32mfrom\u001b[0m \u001b[0;32mNone\u001b[0m\u001b[0;34m\u001b[0m\u001b[0;34m\u001b[0m\u001b[0m\n\u001b[0m\u001b[1;32m    893\u001b[0m             \u001b[0;32mexcept\u001b[0m \u001b[0mException\u001b[0m \u001b[0;32mas\u001b[0m \u001b[0me\u001b[0m\u001b[0;34m:\u001b[0m\u001b[0;34m\u001b[0m\u001b[0;34m\u001b[0m\u001b[0m\n\u001b[1;32m    894\u001b[0m                 \u001b[0mself\u001b[0m\u001b[0;34m.\u001b[0m\u001b[0mlog\u001b[0m\u001b[0;34m.\u001b[0m\u001b[0mwarning\u001b[0m\u001b[0;34m(\u001b[0m\u001b[0;34m\"Invalid Message:\"\u001b[0m\u001b[0;34m,\u001b[0m \u001b[0mexc_info\u001b[0m\u001b[0;34m=\u001b[0m\u001b[0;32mTrue\u001b[0m\u001b[0;34m)\u001b[0m\u001b[0;34m\u001b[0m\u001b[0;34m\u001b[0m\u001b[0m\n",
      "\u001b[0;31mKeyboardInterrupt\u001b[0m: Interrupted by user"
     ]
    }
   ],
   "source": [
    "for r in results.items():\n",
    "    print(r.full_text)\n",
    "    input()"
   ]
  },
  {
   "cell_type": "code",
   "execution_count": null,
   "id": "operational-absolute",
   "metadata": {},
   "outputs": [],
   "source": [
    "\n"
   ]
  }
 ],
 "metadata": {
  "kernelspec": {
   "display_name": "Python 3",
   "language": "python",
   "name": "python3"
  },
  "language_info": {
   "codemirror_mode": {
    "name": "ipython",
    "version": 3
   },
   "file_extension": ".py",
   "mimetype": "text/x-python",
   "name": "python",
   "nbconvert_exporter": "python",
   "pygments_lexer": "ipython3",
   "version": "3.8.5"
  }
 },
 "nbformat": 4,
 "nbformat_minor": 5
}
